{
  "nbformat": 4,
  "nbformat_minor": 0,
  "metadata": {
    "colab": {
      "provenance": [],
      "authorship_tag": "ABX9TyORhpbwU8m5TR+0efKJD2Dy",
      "include_colab_link": true
    },
    "kernelspec": {
      "name": "python3",
      "display_name": "Python 3"
    },
    "language_info": {
      "name": "python"
    }
  },
  "cells": [
    {
      "cell_type": "markdown",
      "metadata": {
        "id": "view-in-github",
        "colab_type": "text"
      },
      "source": [
        "<a href=\"https://colab.research.google.com/github/praveenGV573/Python-training-/blob/main/Day_1_Assignment.ipynb\" target=\"_parent\"><img src=\"https://colab.research.google.com/assets/colab-badge.svg\" alt=\"Open In Colab\"/></a>"
      ]
    },
    {
      "cell_type": "code",
      "execution_count": null,
      "metadata": {
        "colab": {
          "base_uri": "https://localhost:8080/"
        },
        "id": "9S2H1kqwF5Lt",
        "outputId": "15ae8726-85e9-4bb9-b42f-9b0216857191"
      },
      "outputs": [
        {
          "output_type": "stream",
          "name": "stdout",
          "text": [
            "Methods of String\n",
            "7\n",
            "GenzeonIND pvt Ltd\n",
            "e\n",
            "Methods of List\n",
            "\bAppend 6 in list: [1, 2, 3, 4, 5, 6]\n",
            "Reverse a string : [6, 5, 4, 3, 2, 1]\n",
            "Coping the list : [6, 5, 4, 3, 2, 1]\n",
            "Min value in list : 1\n",
            "After removing a from list : ['b', 'c', 'd', 'e', 'f', 'g', 'h', 'i', 'j']\n",
            "Range 3 to 5: ['e', 'f', 'g', 'h']\n",
            "{'Feb', 'May', 'Jan', 'April', 'Mar', 'June'}\n"
          ]
        }
      ],
      "source": [
        "#Implement the methods of String with examples\n",
        "print(\"Methods of String\")\n",
        "str1='Genzeon'\n",
        "str2='IND pvt Ltd'\n",
        "print (len(str1))\n",
        "print (str1 + str2)\n",
        "print (str1[1])\n",
        "\n",
        "\n",
        "\n",
        "#Implement the methods of List with examples.\n",
        "print(\"Methods of List\")\n",
        "list1=[1,2,3,4,5]\n",
        "list2=['a','b','c','d','e','f','g','h','i','j']\n",
        "list1.append(6)\n",
        "#list1.append(list2)\n",
        "print (\"\\bAppend 6 in list:\",list1)\n",
        "list1.reverse()\n",
        "print (\"Reverse a string :\",list1)\n",
        "list3=list1\n",
        "print (\"Coping the list :\",list3)\n",
        "print (\"Min value in list :\",min(list1))\n",
        "list2.remove('a')\n",
        "print (\"After removing a from list :\",list2)\n",
        "print (\"Range 3 to 5:\", list2[3:7])\n",
        "\n",
        "\n",
        "\n",
        "#Implement the methods of Set with examples.\n",
        "set1={'Jan','Feb','Mar','April','May'}\n",
        "Set2={'Jan','Feb','Mar','April','May'}\n",
        "\n",
        "set1.add('June')\n",
        "print (set1)\n",
        "set1==set2\n",
        "\n",
        "\n",
        "\n",
        "\n",
        "\n",
        "\n",
        "\n",
        "\n"
      ]
    },
    {
      "cell_type": "code",
      "source": [
        "#zzoooooo\n",
        "\n",
        "i=int(input(\"enter a value\"))\n",
        "x=0\n",
        "y=0\n",
        "set1=[]\n",
        "\n",
        "for y in range (i):\n",
        "  set1.append('z')\n",
        "for x in range(0,2*i):\n",
        "  set1.append('o')\n",
        "print (set1)\n",
        "\n",
        "#programm2\n",
        "a=0\n",
        "set2=[]\n",
        "for a in range (3*i):\n",
        " if a<i:\n",
        "  set2.append('z')\n",
        " else:\n",
        "  set2.append('o')\n",
        "print (set2)\n"
      ],
      "metadata": {
        "colab": {
          "base_uri": "https://localhost:8080/"
        },
        "id": "_g8mUSg9ZK7v",
        "outputId": "b4c4ea5b-0225-41df-c8c7-9cfc438f3e0c"
      },
      "execution_count": null,
      "outputs": [
        {
          "output_type": "stream",
          "name": "stdout",
          "text": [
            "enter a value3\n",
            "['z', 'z', 'z', 'o', 'o', 'o', 'o', 'o', 'o']\n",
            "['z', 'z', 'z', 'o', 'o', 'o', 'o', 'o', 'o']\n"
          ]
        }
      ]
    },
    {
      "cell_type": "code",
      "source": [
        "#Reverse a string\n",
        "s=input(\"enter string\")\n",
        "s1=s[::-1]\n",
        "print(s1.upper())\n"
      ],
      "metadata": {
        "colab": {
          "base_uri": "https://localhost:8080/"
        },
        "id": "TLlN69a7Ag-9",
        "outputId": "14fca511-d09a-458e-f450-39dfcec9f5eb"
      },
      "execution_count": 14,
      "outputs": [
        {
          "output_type": "stream",
          "name": "stdout",
          "text": [
            "enter stringa\n",
            "A\n"
          ]
        }
      ]
    },
    {
      "cell_type": "code",
      "source": [
        "#Predict the output for the given code snippet and justify the result.\n",
        "\n",
        "print (\"Hello world this is praveen\" [::-1][3:11])\n",
        "#This will reverse the string first and print range for 3 to 11 (Range starts from last char )\n",
        "\n",
        "print (\"Hello world this is praveen\" [3:11][::-1])\n",
        "#This consider the range from 3 to 11 and print in reverse order\n"
      ],
      "metadata": {
        "colab": {
          "base_uri": "https://localhost:8080/"
        },
        "id": "7gut0Z1pmKL5",
        "outputId": "0157d81b-e1c4-4ba5-97e0-f6e2dc9a9d63"
      },
      "execution_count": 20,
      "outputs": [
        {
          "output_type": "stream",
          "name": "stdout",
          "text": [
            "varp si \n"
          ]
        }
      ]
    },
    {
      "cell_type": "code",
      "source": [
        "#Matrix Subtraction, Addition, Multiplication\n",
        "\n",
        "\n",
        "Add[i][j]\n",
        "sub[i][j]\n",
        "a[i][j]\n",
        "b[i][j]\n",
        "\n",
        "for i in range(x):\n",
        "  for j in range(y):\n",
        "    Add[i][j]=a[i][j]+b[i][j]\n",
        "    sub[i][j]=a[i][j]-b[i][j]\n",
        "\n",
        "print(Add[i][j])\n",
        "print(sub[i][j])\n",
        "\n",
        "\n",
        "\n",
        "\n"
      ],
      "metadata": {
        "id": "QoMDDaYPDxFT"
      },
      "execution_count": 21,
      "outputs": []
    },
    {
      "cell_type": "code",
      "source": [
        "#binary conversion\n",
        "x=int(input(\"enter number\"))\n",
        "while x>0:\n",
        "  if x%2==0:\n",
        "    print(0)\n",
        "    x=int(x/2)\n",
        "  else:\n",
        "    print(1)\n",
        "    x=int(x/2)\n"
      ],
      "metadata": {
        "id": "I01b7Hzmlh0M",
        "colab": {
          "base_uri": "https://localhost:8080/"
        },
        "outputId": "57c65eae-0da7-4551-9cd7-a528b3716e38"
      },
      "execution_count": 42,
      "outputs": [
        {
          "output_type": "stream",
          "name": "stdout",
          "text": [
            "enter number9\n",
            "1\n",
            "0\n",
            "0\n",
            "1\n"
          ]
        }
      ]
    }
  ]
}